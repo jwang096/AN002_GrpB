{
 "cells": [
  {
   "cell_type": "markdown",
   "source": [
    "# PCA for Images"
   ],
   "metadata": {
    "collapsed": false
   }
  },
  {
   "cell_type": "markdown",
   "source": [
    "### The [Olivetti Faces Dataset](https://scikit-learn.org/stable/datasets/real_world.html?highlight=olivetti+faces) from `scikit-learn`"
   ],
   "metadata": {
    "collapsed": false
   }
  },
  {
   "cell_type": "code",
   "execution_count": 36,
   "metadata": {
    "collapsed": true,
    "ExecuteTime": {
     "end_time": "2023-09-13T11:17:20.112793Z",
     "start_time": "2023-09-13T11:17:20.084160400Z"
    }
   },
   "outputs": [],
   "source": [
    "import numpy as np\n",
    "import matplotlib.pyplot as plt\n",
    "import pandas as pd"
   ]
  },
  {
   "cell_type": "code",
   "execution_count": 37,
   "outputs": [],
   "source": [
    "from sklearn import datasets\n",
    "from sklearn.decomposition import PCA\n",
    "from PIL import Image"
   ],
   "metadata": {
    "collapsed": false,
    "ExecuteTime": {
     "end_time": "2023-09-13T11:17:20.113793800Z",
     "start_time": "2023-09-13T11:17:20.087165500Z"
    }
   }
  },
  {
   "cell_type": "code",
   "execution_count": null,
   "outputs": [],
   "source": [
    "# Download the data\n",
    "facess = []\n",
    "for i in range(1, 16):\n",
    "    face = Image.open(f'image_{i}.png')  # 替换成你自己的图像文件名\n",
    "    face = np.array(face)  # 转换为NumPy数组\n",
    "    facess.append(face)\n",
    "#faces = datasets.fetch_olivetti_faces()['data']\n",
    "facess = np.array(facess)\n",
    "\n",
    "faces = facess.reshape(15, -1)"
   ],
   "metadata": {
    "collapsed": false,
    "is_executing": true,
    "ExecuteTime": {
     "start_time": "2023-09-13T11:17:20.090793100Z"
    }
   }
  },
  {
   "cell_type": "code",
   "execution_count": null,
   "outputs": [],
   "source": [
    "# 1. Standardize the images using the mean and standard deviation\n",
    "faces_mean = faces.mean(axis=0)\n",
    "faces_std = faces.std(axis=0)\n",
    "faces_standardised = (faces - faces_mean) / faces_std"
   ],
   "metadata": {
    "collapsed": false,
    "is_executing": true
   }
  },
  {
   "cell_type": "markdown",
   "source": [
    "Each row from the faces dataset is a flattened image. Each feature is a pixel in the image."
   ],
   "metadata": {
    "collapsed": false
   }
  },
  {
   "cell_type": "code",
   "execution_count": null,
   "outputs": [],
   "source": [
    "# Find the side length of a square image\n",
    "n_images, n_features = faces_standardised.shape\n",
    "side_length = int(np.sqrt(n_features))\n",
    "print(f'Number of features(pixels) per image: {n_features}')\n",
    "print(f'Square image side length: {side_length}')"
   ],
   "metadata": {
    "collapsed": false,
    "is_executing": true
   }
  },
  {
   "cell_type": "code",
   "execution_count": null,
   "outputs": [],
   "source": [
    "print(faces_standardised.shape)"
   ],
   "metadata": {
    "collapsed": false,
    "is_executing": true
   }
  },
  {
   "cell_type": "code",
   "execution_count": null,
   "outputs": [],
   "source": [
    "# Create an empty 10x8 plot\n",
    "fig = plt.figure(figsize=(10, 8))\n",
    "\n",
    "# Observe the first 15 images.\n",
    "for i in range(15):\n",
    "\n",
    "    # Create subplot, remove x and y ticks, and add title\n",
    "    ax = fig.add_subplot(3, 5, i + 1, xticks=[], yticks=[])\n",
    "    ax.set_title(f'Image #{i+1}')\n",
    "\n",
    "    # Get an image from a row based on the current value of i\n",
    "    face_image = faces_standardised[i]\n",
    "\n",
    "    # Reshape this image into side_length x side_length\n",
    "    #face_image_reshaped = face_image.reshape(side_length, side_length)\n",
    "    face_image_reshaped = face_image.reshape((256, 256, 3))\n",
    "\n",
    "    # Show the image\n",
    "    ax.imshow(face_image_reshaped, cmap=plt.cm.bone)\n",
    "plt.show()"
   ],
   "metadata": {
    "collapsed": false,
    "is_executing": true
   }
  },
  {
   "cell_type": "markdown",
   "source": [
    "----"
   ],
   "metadata": {
    "collapsed": false
   }
  },
  {
   "cell_type": "markdown",
   "source": [
    "### Visualise the eigenvectors as `Eigenfaces`"
   ],
   "metadata": {
    "collapsed": false
   }
  },
  {
   "cell_type": "code",
   "execution_count": null,
   "outputs": [],
   "source": [
    "faces_standardized = pd.read_csv('faces_standardized.csv').values"
   ],
   "metadata": {
    "collapsed": false,
    "is_executing": true
   }
  },
  {
   "cell_type": "markdown",
   "source": [
    "1. Instantiate a PCA object and fit the standardized faces dataset"
   ],
   "metadata": {
    "collapsed": false
   }
  },
  {
   "cell_type": "code",
   "execution_count": null,
   "outputs": [],
   "source": [
    "pca = PCA(n_components=400) # Reducing components will reduce detail and clarity\n",
    "pca.fit(faces_standardized)"
   ],
   "metadata": {
    "collapsed": false,
    "is_executing": true
   }
  },
  {
   "cell_type": "markdown",
   "source": [
    "2. Retrieve and plot eigenvectors (eigenfaces)"
   ],
   "metadata": {
    "collapsed": false
   }
  },
  {
   "cell_type": "code",
   "execution_count": null,
   "outputs": [],
   "source": [
    "eigenfaces = pca.components_"
   ],
   "metadata": {
    "collapsed": false,
    "is_executing": true
   }
  },
  {
   "cell_type": "code",
   "execution_count": null,
   "outputs": [],
   "source": [
    "fig = plt.figure(figsize=(10, 8))\n",
    "fig.suptitle('Eigenvectors of Images (Eigenfaces)')\n",
    "for i in range(15):\n",
    "    # Create subplot, remove x and y ticks, and add title\n",
    "    ax = fig.add_subplot(3, 5, i + 1, xticks=[], yticks=[])\n",
    "    ax.set_title(f'Eigenface #{i+1}')\n",
    "\n",
    "    # Get an eigenvector from the current value of i\n",
    "    eigenface = eigenfaces[i]\n",
    "\n",
    "    # Reshape this image into 64x64 since the flattened shape was 4096\n",
    "    eigenface_reshaped = eigenface.reshape(64, 64)\n",
    "\n",
    "    # Show the image\n",
    "    ax.imshow(eigenface_reshaped, cmap=plt.cm.bone)\n",
    "\n",
    "plt.show()"
   ],
   "metadata": {
    "collapsed": false,
    "is_executing": true
   }
  },
  {
   "cell_type": "markdown",
   "source": [
    "3. Reconstruct images from the compressed principal components"
   ],
   "metadata": {
    "collapsed": false
   }
  },
  {
   "cell_type": "code",
   "execution_count": null,
   "outputs": [],
   "source": [
    "# The principal components are usually calculated using `faces_standardized @ principal_axes` or the `.transform` method\n",
    "principal_components = pca.transform(faces_standardized)\n",
    "\n",
    "# The `inverse_transform` method allows for reconstruction of images in the original size\n",
    "faces_reconstructed = pca.inverse_transform(principal_components)\n",
    "\n",
    "# Plot the reconstructed images\n",
    "fig = plt.figure(figsize=(10, 8))\n",
    "fig.suptitle('Reconstructed Images from Principal Components')\n",
    "for i in range(15):\n",
    "    ax = fig.add_subplot(3, 5, i + 1, xticks=[], yticks=[])\n",
    "    ax.set_title(f'Reconstructed: {i+1}')\n",
    "\n",
    "    reconstructed_face = faces_reconstructed[i]\n",
    "    reconstructed_face_reshaped = reconstructed_face.reshape(64, 64)\n",
    "    ax.imshow(reconstructed_face_reshaped, cmap=plt.cm.bone)\n",
    "plt.show()"
   ],
   "metadata": {
    "collapsed": false,
    "is_executing": true
   }
  }
 ],
 "metadata": {
  "kernelspec": {
   "display_name": "Python 3",
   "language": "python",
   "name": "python3"
  },
  "language_info": {
   "codemirror_mode": {
    "name": "ipython",
    "version": 2
   },
   "file_extension": ".py",
   "mimetype": "text/x-python",
   "name": "python",
   "nbconvert_exporter": "python",
   "pygments_lexer": "ipython2",
   "version": "2.7.6"
  }
 },
 "nbformat": 4,
 "nbformat_minor": 0
}
